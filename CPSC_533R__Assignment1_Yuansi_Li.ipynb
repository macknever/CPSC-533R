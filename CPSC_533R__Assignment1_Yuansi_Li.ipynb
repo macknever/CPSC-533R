{
  "nbformat": 4,
  "nbformat_minor": 0,
  "metadata": {
    "colab": {
      "name": "CPSC_533R_ Assignment1_Yuansi_Li.ipynb",
      "provenance": [],
      "private_outputs": true,
      "collapsed_sections": [],
      "authorship_tag": "ABX9TyOi2+cDAKC+UArHJ0+Ju80q",
      "include_colab_link": true
    },
    "kernelspec": {
      "name": "python3",
      "display_name": "Python 3"
    }
  },
  "cells": [
    {
      "cell_type": "markdown",
      "metadata": {
        "id": "view-in-github",
        "colab_type": "text"
      },
      "source": [
        "<a href=\"https://colab.research.google.com/github/macknever/CPSC-533R/blob/master/CPSC_533R__Assignment1_Yuansi_Li.ipynb\" target=\"_parent\"><img src=\"https://colab.research.google.com/assets/colab-badge.svg\" alt=\"Open In Colab\"/></a>"
      ]
    },
    {
      "cell_type": "markdown",
      "metadata": {
        "id": "K3Xlp6QCOrxy",
        "colab_type": "text"
      },
      "source": [
        "Task I: Build a Neural Network"
      ]
    },
    {
      "cell_type": "code",
      "metadata": {
        "id": "Qu30CZyYO6WI",
        "colab_type": "code",
        "colab": {}
      },
      "source": [
        "import torch\n",
        "import torch.nn as nn\n",
        "import torch.nn.functional as F\n",
        "import torch.optim as optim"
      ],
      "execution_count": 0,
      "outputs": []
    },
    {
      "cell_type": "markdown",
      "metadata": {
        "id": "FD6MClyoMkOC",
        "colab_type": "text"
      },
      "source": [
        "I built this neural network based on this [Tutorail](https://pytorch.org/tutorials/beginner/blitz/cifar10_tutorial.html). I increased the third convolutional layer\n",
        "\n",
        "\n",
        "\n"
      ]
    },
    {
      "cell_type": "code",
      "metadata": {
        "id": "hgEPKMzHQKYr",
        "colab_type": "code",
        "colab": {}
      },
      "source": [
        "class NN(nn.Module):\n",
        "\n",
        "    def __init__(self):\n",
        "        super(NN,self).__init__()\n",
        "\n",
        "        #How to init these para is based on what kind of dataset this network going to be applied\n",
        "\n",
        "        self.conv1 = nn.Conv2d(3,6,5)\n",
        "        self.conv2 = nn.Conv2d(6,16,3)\n",
        "        self.conv3 = nn.Conv2d(16,32,3)\n",
        "\n",
        "\n",
        "        self.fc1 = nn.Linear(32*2*2,120)\n",
        "        self.fc2 = nn.Linear(120,84)\n",
        "        self.fc3 = nn.Linear(84,10)\n",
        "        self.fc4 = nn.Linear(10,1)\n",
        "\n",
        "    \n",
        "    def forward(self,x):\n",
        "\n",
        "        x = F.max_pool2d(F.relu(self.conv1(x)),2)\n",
        "        x = F.max_pool2d(F.relu(self.conv2(x)),2)\n",
        "        x = F.max_pool2d(F.relu(self.conv3(x)),2)\n",
        "\n",
        "        x = x.view(-1,32*2*2)\n",
        "        x = F.relu(self.fc1(x))\n",
        "        x = F.relu(self.fc2(x))\n",
        "        x = F.relu(self.fc3(x))\n",
        "        x = self.fc4(x)\n",
        "        return x\n",
        "\n",
        "    \n",
        "\n",
        "net = NN()"
      ],
      "execution_count": 0,
      "outputs": []
    },
    {
      "cell_type": "code",
      "metadata": {
        "id": "c19GZZ8ViPf7",
        "colab_type": "code",
        "colab": {}
      },
      "source": [
        "x1 = torch.ones(1,3,32,32)\n",
        "x2 = 2*x1\n",
        "x3 = 3*x1\n",
        "x4 = 4*x1\n",
        "x5 = 5*x1\n",
        "input = torch.cat([x1,x2,x3,x4,x5],dim =0)\n"
      ],
      "execution_count": 0,
      "outputs": []
    },
    {
      "cell_type": "code",
      "metadata": {
        "id": "LnIV8qwqiSpU",
        "colab_type": "code",
        "colab": {}
      },
      "source": [
        "target = torch.arange(2,7)\n",
        "target = target.float()\n",
        "target = target.view(5,-1)\n",
        "print(target)"
      ],
      "execution_count": 0,
      "outputs": []
    },
    {
      "cell_type": "code",
      "metadata": {
        "id": "Czmmfe8ROD5A",
        "colab_type": "code",
        "colab": {}
      },
      "source": [
        "output = net(input)\n",
        "print(output)\n",
        " # make it the same shape as output\n",
        "criterion = nn.MSELoss()\n",
        "\n",
        "loss = criterion(output, target)\n"
      ],
      "execution_count": 0,
      "outputs": []
    },
    {
      "cell_type": "code",
      "metadata": {
        "id": "GahOx4OBmUeu",
        "colab_type": "code",
        "colab": {}
      },
      "source": [
        "optimizer = optim.SGD(net.parameters(),lr = 0.001)\n",
        "for epoch in range(1000):\n",
        "  \n",
        "  for i in range(5):\n",
        "    optimizer.zero_grad()\n",
        "    out = net(input[i].unsqueeze(0))\n",
        "    loss = criterion(out, target[i])\n",
        "    loss.backward()\n",
        "    optimizer.step()  "
      ],
      "execution_count": 0,
      "outputs": []
    },
    {
      "cell_type": "code",
      "metadata": {
        "id": "GTwrDRO8m1he",
        "colab_type": "code",
        "colab": {}
      },
      "source": [
        "inp = torch.ones(1,3,32,32)\n",
        "out = net(inp)\n",
        "print(out)\n",
        "inp = 2*inp\n",
        "out = net(inp)\n",
        "print(out)"
      ],
      "execution_count": 0,
      "outputs": []
    }
  ]
}