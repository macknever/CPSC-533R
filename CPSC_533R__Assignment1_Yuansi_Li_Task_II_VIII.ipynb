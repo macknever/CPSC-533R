{
  "nbformat": 4,
  "nbformat_minor": 0,
  "metadata": {
    "colab": {
      "name": "CPSC_533R_ Assignment1_Yuansi_Li_Task_II-VIII.ipynb",
      "provenance": [],
      "authorship_tag": "ABX9TyP+MKESoVgDqV1kNzJr3hDC",
      "include_colab_link": true
    },
    "kernelspec": {
      "name": "python3",
      "display_name": "Python 3"
    }
  },
  "cells": [
    {
      "cell_type": "markdown",
      "metadata": {
        "id": "view-in-github",
        "colab_type": "text"
      },
      "source": [
        "<a href=\"https://colab.research.google.com/github/macknever/CPSC-533R/blob/master/CPSC_533R__Assignment1_Yuansi_Li_Task_II_VIII.ipynb\" target=\"_parent\"><img src=\"https://colab.research.google.com/assets/colab-badge.svg\" alt=\"Open In Colab\"/></a>"
      ]
    },
    {
      "cell_type": "markdown",
      "metadata": {
        "id": "FBMobg2J8JNi",
        "colab_type": "text"
      },
      "source": [
        "Here are task II to VIII. I refered [this tutorial](https://pytorch.org/tutorials/beginner/blitz/cifar10_tutorial.html)"
      ]
    },
    {
      "cell_type": "code",
      "metadata": {
        "id": "KicxuxIb8NHj",
        "colab_type": "code",
        "colab": {}
      },
      "source": [
        "import torch\n",
        "import torch.nn as nn\n",
        "import torch.nn.functional as F\n",
        "import torchvision\n",
        "import torchvision.transforms as transforms\n",
        "import matplotlib.pyplot as plt\n",
        "import numpy as np\n",
        "import torch.optim as optim"
      ],
      "execution_count": 0,
      "outputs": []
    },
    {
      "cell_type": "markdown",
      "metadata": {
        "id": "HRK5yCZK-CpP",
        "colab_type": "text"
      },
      "source": [
        "I made a new __getitem__() here to return a dictionary"
      ]
    },
    {
      "cell_type": "code",
      "metadata": {
        "id": "NA2LzJ__Mzqj",
        "colab_type": "code",
        "colab": {}
      },
      "source": [
        "#use dictionary\n",
        "\n",
        "#override the __getitem__ function\n",
        "class Dataset(torchvision.datasets.CIFAR10):\n",
        "    def __getitem__(self, item):\n",
        "        i,l = super().__getitem__(item)\n",
        "        dic = {'img':i,'label':l}\n",
        "        return dic"
      ],
      "execution_count": 0,
      "outputs": []
    },
    {
      "cell_type": "code",
      "metadata": {
        "id": "xCa57bKq8bVw",
        "colab_type": "code",
        "colab": {}
      },
      "source": [
        "transform = transforms.Compose(\n",
        "    [transforms.ToTensor(),\n",
        "     transforms.Normalize((0.5, 0.5, 0.5), (0.5, 0.5, 0.5))])\n"
      ],
      "execution_count": 0,
      "outputs": []
    },
    {
      "cell_type": "markdown",
      "metadata": {
        "id": "IHEmxlcEZbtU",
        "colab_type": "text"
      },
      "source": [
        "I loaded dataset from CIFAR10, which contains (3*32*32) image dataset."
      ]
    },
    {
      "cell_type": "code",
      "metadata": {
        "id": "-emMDCao88yW",
        "colab_type": "code",
        "colab": {
          "base_uri": "https://localhost:8080/",
          "height": 51
        },
        "outputId": "5dd84e99-3141-47ba-cdf1-5f1e76ff31d4"
      },
      "source": [
        "trainset = Dataset(root='./data', train=True, download=True, transform=transform)\n",
        "trainloader = torch.utils.data.DataLoader(trainset, batch_size=4, shuffle=True, num_workers=2)\n",
        "testset = Dataset(root='./data', train=False, download=True, transform=transform)\n",
        "testloader = torch.utils.data.DataLoader(testset, batch_size=4, shuffle=False, num_workers=2)\n"
      ],
      "execution_count": 111,
      "outputs": [
        {
          "output_type": "stream",
          "text": [
            "Files already downloaded and verified\n",
            "Files already downloaded and verified\n"
          ],
          "name": "stdout"
        }
      ]
    },
    {
      "cell_type": "code",
      "metadata": {
        "id": "YR0x5H7l9AM9",
        "colab_type": "code",
        "colab": {}
      },
      "source": [
        "classes = ('plane', 'car', 'bird', 'cat',\n",
        "           'deer', 'dog', 'frog', 'horse', 'ship', 'truck')"
      ],
      "execution_count": 0,
      "outputs": []
    },
    {
      "cell_type": "markdown",
      "metadata": {
        "id": "q_fz8MORZrxm",
        "colab_type": "text"
      },
      "source": [
        "What I did is to classify the pic."
      ]
    },
    {
      "cell_type": "code",
      "metadata": {
        "id": "DnT4Bn5u9QyD",
        "colab_type": "code",
        "colab": {}
      },
      "source": [
        "def imshow(img):\n",
        "    img = img / 2 +0.5\n",
        "    npimg = img.numpy()\n",
        "    plt.imshow(np.transpose(npimg,(1,2,0)))\n",
        "   "
      ],
      "execution_count": 0,
      "outputs": []
    },
    {
      "cell_type": "markdown",
      "metadata": {
        "id": "iGoczrNLOPCp",
        "colab_type": "text"
      },
      "source": [
        "Task VI"
      ]
    },
    {
      "cell_type": "code",
      "metadata": {
        "id": "flSTnFw-Jj6J",
        "colab_type": "code",
        "colab": {
          "base_uri": "https://localhost:8080/",
          "height": 155
        },
        "outputId": "9fcaa1be-90a9-448d-d9a3-94d76db99493"
      },
      "source": [
        "# get some random training images\n",
        "dataiter = iter(trainloader)\n",
        "dic = dataiter.next()\n",
        "images, labels = dic['img'], dic['label']\n",
        "# print(images)\n",
        "#show images\n",
        "\n",
        "imshow(torchvision.utils.make_grid(images))\n",
        "print(''.join('%6s' % classes[labels[j]] for j in range(4)))"
      ],
      "execution_count": 114,
      "outputs": [
        {
          "output_type": "stream",
          "text": [
            "   cat  ship plane   cat\n"
          ],
          "name": "stdout"
        },
        {
          "output_type": "display_data",
          "data": {
            "image/png": "[encoded data removed]",
            "text/plain": [
              "<Figure size 432x288 with 1 Axes>"
            ]
          },
          "metadata": {
            "tags": []
          }
        }
      ]
    },
    {
      "cell_type": "markdown",
      "metadata": {
        "id": "538oJ5jU-f6S",
        "colab_type": "text"
      },
      "source": [
        "Here, is for task III & IV. the forward() function now can receive a dic type argu to compute forward, and return a dict type."
      ]
    },
    {
      "cell_type": "code",
      "metadata": {
        "id": "gLiSrEEc-v0Q",
        "colab_type": "code",
        "colab": {}
      },
      "source": [
        "class NN(nn.Module):\n",
        "\n",
        "    def __init__(self):\n",
        "        super(NN,self).__init__()\n",
        "\n",
        "        self.conv1 = nn.Conv2d(3,6,5)\n",
        "        self.conv2 = nn.Conv2d(6,16,3)\n",
        "        self.conv3 = nn.Conv2d(16,32,3)\n",
        "\n",
        "        self.fc1 = nn.Linear(32*2*2,120)\n",
        "        self.fc2 = nn.Linear(120,84)\n",
        "        self.fc3 = nn.Linear(84,10)\n",
        "#modifed forward function\n",
        "    def forward(self,dic):\n",
        "        x = dic['img']\n",
        "        x = F.max_pool2d(F.relu(self.conv1(x)),2)\n",
        "        x = F.max_pool2d(F.relu(self.conv2(x)),2)\n",
        "        x = F.max_pool2d(F.relu(self.conv3(x)),2)\n",
        "\n",
        "        x = x.view(-1,32*2*2)\n",
        "        x = F.relu(self.fc1(x))\n",
        "        x = F.relu(self.fc2(x))\n",
        "        x = self.fc3(x)\n",
        "        label = {'label':x}\n",
        "        return label\n",
        "\n",
        "net = NN()"
      ],
      "execution_count": 0,
      "outputs": []
    },
    {
      "cell_type": "code",
      "metadata": {
        "id": "-KrdW3Qc-_4M",
        "colab_type": "code",
        "colab": {}
      },
      "source": [
        "criterion = nn.CrossEntropyLoss()\n",
        "optimizer = optim.SGD(net.parameters(), lr = 0.001, momentum = 0.9)"
      ],
      "execution_count": 0,
      "outputs": []
    },
    {
      "cell_type": "markdown",
      "metadata": {
        "id": "SvWr9atlHCrG",
        "colab_type": "text"
      },
      "source": [
        "Task V,VII"
      ]
    },
    {
      "cell_type": "code",
      "metadata": {
        "id": "z6KFftKK_QTo",
        "colab_type": "code",
        "colab": {
          "base_uri": "https://localhost:8080/",
          "height": 238
        },
        "outputId": "6e7c50a0-5b02-44a2-ab9c-23663286f7ec"
      },
      "source": [
        "for epoch in range(2):  # loop over the dataset multiple times\n",
        "\n",
        "    running_loss = 0.0\n",
        "    for i, data in enumerate(trainloader, 0):\n",
        "        # get the inputs; data is a list of [inputs, labels]\n",
        "        inputs, labels = data\n",
        "\n",
        "        # zero the parameter gradients\n",
        "        optimizer.zero_grad()\n",
        "\n",
        "        # forward + backward + optimize\n",
        "        #outputs = net(data)\n",
        "        outputs = net(data)\n",
        "        loss = criterion(outputs['label'], data['label'])\n",
        "        #loss = criterion(outputs,labels)\n",
        "        loss.backward()\n",
        "        optimizer.step()\n",
        "\n",
        "        # print statistics\n",
        "        running_loss += loss.item()\n",
        "        if i % 2000 == 1999:    # print every 2000 mini-batches\n",
        "            print('[%d, %5d] loss: %.3f' %\n",
        "                  (epoch + 1, i + 1, running_loss / 2000))\n",
        "            running_loss = 0.0\n",
        "\n",
        "print('Finished Training')"
      ],
      "execution_count": 117,
      "outputs": [
        {
          "output_type": "stream",
          "text": [
            "[1,  2000] loss: 2.303\n",
            "[1,  4000] loss: 2.300\n",
            "[1,  6000] loss: 2.171\n",
            "[1,  8000] loss: 1.894\n",
            "[1, 10000] loss: 1.756\n",
            "[1, 12000] loss: 1.643\n",
            "[2,  2000] loss: 1.573\n",
            "[2,  4000] loss: 1.538\n",
            "[2,  6000] loss: 1.507\n",
            "[2,  8000] loss: 1.487\n",
            "[2, 10000] loss: 1.436\n",
            "[2, 12000] loss: 1.436\n",
            "Finished Training\n"
          ],
          "name": "stdout"
        }
      ]
    },
    {
      "cell_type": "markdown",
      "metadata": {
        "id": "ZKCbHNoJH73X",
        "colab_type": "text"
      },
      "source": [
        "Task VIII"
      ]
    },
    {
      "cell_type": "code",
      "metadata": {
        "id": "62ecDk2eHynH",
        "colab_type": "code",
        "colab": {}
      },
      "source": [
        "#store the trained net\n",
        "PATH = './cifar_net.pth'\n",
        "torch.save(net.state_dict(), PATH)"
      ],
      "execution_count": 0,
      "outputs": []
    },
    {
      "cell_type": "code",
      "metadata": {
        "id": "qNtbg-dtQQRx",
        "colab_type": "code",
        "colab": {}
      },
      "source": [
        "dataiter = iter(testloader)\n",
        "input = dataiter.next()\n",
        "images, labels = input['img'],input['label']"
      ],
      "execution_count": 0,
      "outputs": []
    },
    {
      "cell_type": "code",
      "metadata": {
        "id": "YUB-ZiqeQTjL",
        "colab_type": "code",
        "colab": {
          "base_uri": "https://localhost:8080/",
          "height": 155
        },
        "outputId": "9fdbe118-0c52-40e3-de41-ebcae073ec09"
      },
      "source": [
        "imshow(torchvision.utils.make_grid(images))\n",
        "print('GroundTruth: ', ' '.join('%5s' % classes[labels[j]] for j in range(4)))"
      ],
      "execution_count": 120,
      "outputs": [
        {
          "output_type": "stream",
          "text": [
            "GroundTruth:    cat  ship  ship plane\n"
          ],
          "name": "stdout"
        },
        {
          "output_type": "display_data",
          "data": {
            "image/png": "[encoded data removed]",
            "text/plain": [
              "<Figure size 432x288 with 1 Axes>"
            ]
          },
          "metadata": {
            "tags": []
          }
        }
      ]
    },
    {
      "cell_type": "code",
      "metadata": {
        "id": "SgVAgFIqQbtl",
        "colab_type": "code",
        "colab": {
          "base_uri": "https://localhost:8080/",
          "height": 34
        },
        "outputId": "968af18e-f344-44e6-a06d-16a54073d7c5"
      },
      "source": [
        "#load back the trained net\n",
        "net = NN()\n",
        "net.load_state_dict(torch.load(PATH))"
      ],
      "execution_count": 121,
      "outputs": [
        {
          "output_type": "execute_result",
          "data": {
            "text/plain": [
              "<All keys matched successfully>"
            ]
          },
          "metadata": {
            "tags": []
          },
          "execution_count": 121
        }
      ]
    },
    {
      "cell_type": "code",
      "metadata": {
        "id": "p22sfpw2QhV_",
        "colab_type": "code",
        "colab": {
          "base_uri": "https://localhost:8080/",
          "height": 34
        },
        "outputId": "25793743-8160-430a-9970-ba5f7a767794"
      },
      "source": [
        "outputs = net(input)\n",
        "\n",
        "_, predicted = torch.max(outputs['label'], 1)\n",
        "\n",
        "print('Predicted: ', ' '.join('%5s' % classes[predicted[j]]\n",
        "                              for j in range(4)))"
      ],
      "execution_count": 122,
      "outputs": [
        {
          "output_type": "stream",
          "text": [
            "Predicted:    cat  ship  ship  ship\n"
          ],
          "name": "stdout"
        }
      ]
    },
    {
      "cell_type": "code",
      "metadata": {
        "id": "0jDkd6IWTEIC",
        "colab_type": "code",
        "colab": {
          "base_uri": "https://localhost:8080/",
          "height": 34
        },
        "outputId": "44fe419c-44c5-42d4-b378-a2f7a87e1a5c"
      },
      "source": [
        "correct = 0\n",
        "total = 0\n",
        "with torch.no_grad():\n",
        "    for data in testloader:\n",
        "        images, labels = data['img'],data['label']\n",
        "        outputs = net(data)\n",
        "        _, predicted = torch.max(outputs['label'], 1)\n",
        "        total += labels.size(0)\n",
        "        correct += (predicted == labels).sum().item()\n",
        "\n",
        "print('Accuracy of the network on the 10000 test images: %d %%' % (\n",
        "    100 * correct / total))"
      ],
      "execution_count": 123,
      "outputs": [
        {
          "output_type": "stream",
          "text": [
            "Accuracy of the network on the 10000 test images: 50 %\n"
          ],
          "name": "stdout"
        }
      ]
    },
    {
      "cell_type": "code",
      "metadata": {
        "id": "yTN9DUPaVSRO",
        "colab_type": "code",
        "colab": {
          "base_uri": "https://localhost:8080/",
          "height": 187
        },
        "outputId": "5987cba9-ee72-4658-c44a-36d919e04aef"
      },
      "source": [
        "class_correct = list(0. for i in range(10))\n",
        "class_total = list(0. for i in range(10))\n",
        "with torch.no_grad():\n",
        "    for data in testloader:\n",
        "        images, labels = data['img'],data['label']\n",
        "        outputs = net(data)\n",
        "        _, predicted = torch.max(outputs['label'], 1)\n",
        "        c = (predicted == labels).squeeze()\n",
        "        for i in range(4):\n",
        "            label = labels[i]\n",
        "            class_correct[label] += c[i].item()\n",
        "            class_total[label] += 1\n",
        "\n",
        "\n",
        "for i in range(10):\n",
        "    print('Accuracy of %5s : %2d %%' % (\n",
        "        classes[i], 100 * class_correct[i] / class_total[i]))"
      ],
      "execution_count": 124,
      "outputs": [
        {
          "output_type": "stream",
          "text": [
            "Accuracy of plane : 42 %\n",
            "Accuracy of   car : 70 %\n",
            "Accuracy of  bird : 42 %\n",
            "Accuracy of   cat : 22 %\n",
            "Accuracy of  deer : 33 %\n",
            "Accuracy of   dog : 44 %\n",
            "Accuracy of  frog : 57 %\n",
            "Accuracy of horse : 67 %\n",
            "Accuracy of  ship : 71 %\n",
            "Accuracy of truck : 51 %\n"
          ],
          "name": "stdout"
        }
      ]
    }
  ]
}