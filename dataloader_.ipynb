{
  "nbformat": 4,
  "nbformat_minor": 0,
  "metadata": {
    "colab": {
      "name": "dataloader_.ipynb",
      "provenance": [],
      "private_outputs": true,
      "toc_visible": true
    },
    "kernelspec": {
      "name": "python3",
      "display_name": "Python 3"
    }
  },
  "cells": [
    {
      "cell_type": "code",
      "metadata": {
        "id": "GY2LJZod4_Iw",
        "colab_type": "code",
        "colab": {}
      },
      "source": [
        "from __future__ import print_function, division\n",
        "import os\n",
        "import torch\n",
        "import pandas as pd\n",
        "from skimage import io, transform\n",
        "import numpy as np\n",
        "import matplotlib.pyplot as plt\n",
        "from torch.utils.data import Dataset, DataLoader\n",
        "from torchvision import transforms, utils"
      ],
      "execution_count": 0,
      "outputs": []
    },
    {
      "cell_type": "code",
      "metadata": {
        "id": "QUikb8B05YCg",
        "colab_type": "code",
        "colab": {}
      },
      "source": [
        "data_path = 'content/drive/My Drive'\n",
        "load_path = 'sample_data'"
      ],
      "execution_count": 0,
      "outputs": []
    },
    {
      "cell_type": "code",
      "metadata": {
        "id": "Db4SmXyR54El",
        "colab_type": "code",
        "colab": {}
      },
      "source": [
        "!cp '/content/drive/My Drive/data.zip' /content\n",
        "!unzip data.zip"
      ],
      "execution_count": 0,
      "outputs": []
    },
    {
      "cell_type": "code",
      "metadata": {
        "id": "8yWbj4HjFnHZ",
        "colab_type": "code",
        "colab": {}
      },
      "source": [
        "from __future__ import print_function, division\n",
        "import os\n",
        "import torch\n",
        "import pandas as pd\n",
        "from skimage import io, transform\n",
        "import numpy as np\n",
        "import matplotlib.pyplot as plt\n",
        "from torch.utils.data import Dataset, DataLoader\n",
        "from torchvision import transforms, utils\n",
        "from PIL import Image"
      ],
      "execution_count": 0,
      "outputs": []
    },
    {
      "cell_type": "code",
      "metadata": {
        "id": "mtqziTaxJQZz",
        "colab_type": "code",
        "colab": {}
      },
      "source": [
        "class Killer_Whale_Dataset(Dataset):\n",
        "    # this is a class for the Killer whale dataset\n",
        "    \n",
        "    #first of all override the __init__() method.\n",
        "    def __init__(self, data_folder):\n",
        "    \t# super() method is to use the method in its parent class\n",
        "        super().__init__()\n",
        "        self.img_path = os.path.join(data_folder,\n",
        "                                'img')\n",
        "        self.mask_path = os.path.join(data_folder,'mask')\n",
        "\n",
        "    def __getitem__(self,idx):\n",
        "    \tself.img = Image.open(self.img_path[idx][0])\n",
        "    \tself.mask = Image.open(self.mask_path[idx][0])\n",
        "    \tself.sample = {'img':img,'mask':mask}\n",
        "    \treturn sample\n",
        "    def __len__(self):\n",
        "    \treturn len(self.img_path)"
      ],
      "execution_count": 0,
      "outputs": []
    },
    {
      "cell_type": "code",
      "metadata": {
        "id": "-WqHnDiRJsaD",
        "colab_type": "code",
        "colab": {}
      },
      "source": [
        ""
      ],
      "execution_count": 0,
      "outputs": []
    }
  ]
}